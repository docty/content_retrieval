{
 "cells": [
  {
   "cell_type": "code",
   "execution_count": null,
   "metadata": {
    "_cell_guid": "b1076dfc-b9ad-4769-8c92-a6c4dae69d19",
    "_uuid": "8f2839f25d086af736a60e9eeb907d3b93b6e0e5",
    "trusted": true
   },
   "outputs": [],
   "source": [
    "%pip install llama-index llama-index-llms-mistralai llama-index-embeddings-fastembed -q\n",
    "%pip install gradio -q"
   ]
  },
  {
   "cell_type": "code",
   "execution_count": null,
   "metadata": {
    "trusted": true
   },
   "outputs": [],
   "source": [
    "!git clone https://github.com/docty/content_retrieval.git"
   ]
  },
  {
   "cell_type": "code",
   "execution_count": null,
   "metadata": {
    "trusted": true
   },
   "outputs": [],
   "source": [
    "import os\n",
    "import getpass\n",
    "\n",
    "os.environ[\"MISTRAL_API_KEY\"] = getpass.getpass('Enter Mistral Api Key')"
   ]
  },
  {
   "cell_type": "code",
   "execution_count": null,
   "metadata": {
    "trusted": true
   },
   "outputs": [],
   "source": [
    "from content_retrieval.tools.chatmodel import LLMChat\n",
    "from content_retrieval.tools.utils import download_data"
   ]
  },
  {
   "cell_type": "code",
   "execution_count": null,
   "metadata": {
    "trusted": true
   },
   "outputs": [],
   "source": [
    "download_data(data_url='https://www.princexml.com/samples/invoice/invoicesample.pdf', data_format='pdf')"
   ]
  },
  {
   "cell_type": "code",
   "execution_count": null,
   "metadata": {
    "trusted": true
   },
   "outputs": [],
   "source": [
    "import gradio as gr\n",
    "import time\n",
    "\n",
    "llm = LLMChat()\n",
    "custom_docs = llm.load_data('./data/sample.pdf')\n",
    "query_engine = llm.query_engine(custom_docs)\n",
    "\n",
    " \n",
    "def user(user_message, history: list):\n",
    "    history = history + [{\"role\": \"user\", \"content\": user_message}]\n",
    "    return \"\", history\n",
    "\n",
    " \n",
    "def bot(history: list):\n",
    "    try:\n",
    "        user_message = history[-1]['content']\n",
    "        full_response = query_engine.query(user_message).response\n",
    "    except Exception as e:\n",
    "        full_response = f\"Error: {e}\"\n",
    "    \n",
    "    history.append({\"role\": \"assistant\", \"content\": \"\"})\n",
    "    \n",
    "    for char in full_response:\n",
    "        history[-1]['content'] += char\n",
    "        time.sleep(0.02)  \n",
    "        yield history\n",
    "\n",
    "\n",
    "with gr.Blocks(title=\"Chatbot\") as demo:\n",
    "    gr.Markdown(\"## Ask questions about the document.\")\n",
    "    \n",
    "    chatbot = gr.Chatbot(type=\"messages\")\n",
    "    msg = gr.Textbox(label=\"Your question\", placeholder=\"Ask something about the document...\")\n",
    "    clear = gr.Button(\"Clear\")\n",
    "\n",
    "    msg.submit(user, [msg, chatbot], [msg, chatbot], queue=False).then(\n",
    "        bot, chatbot, chatbot\n",
    "    )\n",
    "    clear.click(lambda: None, None, chatbot, queue=False)\n",
    "\n",
    "\n",
    "    demo.launch(share=True)\n"
   ]
  }
 ],
 "metadata": {
  "kaggle": {
   "accelerator": "none",
   "dataSources": [],
   "dockerImageVersionId": 31041,
   "isGpuEnabled": false,
   "isInternetEnabled": true,
   "language": "python",
   "sourceType": "notebook"
  },
  "kernelspec": {
   "display_name": "Python 3",
   "language": "python",
   "name": "python3"
  },
  "language_info": {
   "codemirror_mode": {
    "name": "ipython",
    "version": 3
   },
   "file_extension": ".py",
   "mimetype": "text/x-python",
   "name": "python",
   "nbconvert_exporter": "python",
   "pygments_lexer": "ipython3",
   "version": "3.11.11"
  }
 },
 "nbformat": 4,
 "nbformat_minor": 4
}
